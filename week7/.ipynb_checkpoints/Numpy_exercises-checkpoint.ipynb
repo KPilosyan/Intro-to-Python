{
 "cells": [
  {
   "cell_type": "markdown",
   "metadata": {},
   "source": [
    "# Numpy exercises\n"
   ]
  },
  {
   "cell_type": "markdown",
   "metadata": {},
   "source": [
    "#### 1. Import the numpy package under the name `np`\n",
    "\n",
    "#### Import արեք numpy module-ը np անունով:"
   ]
  },
  {
   "cell_type": "code",
   "execution_count": 1,
   "metadata": {},
   "outputs": [],
   "source": [
    "import numpy as np"
   ]
  },
  {
   "cell_type": "markdown",
   "metadata": {},
   "source": [
    "#### 2. Create a numpy array of size 10 filled with zeros. \n",
    "\n",
    "#### Ստեղծեք 10 չափի 0-ներով լցված numpy array:"
   ]
  },
  {
   "cell_type": "code",
   "execution_count": 3,
   "metadata": {},
   "outputs": [
    {
     "name": "stdout",
     "output_type": "stream",
     "text": [
      "[0 0 0 0 0 0 0 0 0 0]\n"
     ]
    }
   ],
   "source": [
    "arr = np.zeros(10, dtype=np.int)\n",
    "print(arr)"
   ]
  },
  {
   "cell_type": "markdown",
   "metadata": {},
   "source": [
    "#### 3.  How to get the documentation of the numpy add function? \n",
    "\n",
    "#### Նայեք numpy-ի add ֆունկցիայի դոկումենտացիան:"
   ]
  },
  {
   "cell_type": "code",
   "execution_count": 6,
   "metadata": {},
   "outputs": [
    {
     "name": "stdout",
     "output_type": "stream",
     "text": [
      "[0 1 2 3 4]\n",
      "[1 3 5 7 9]\n"
     ]
    }
   ],
   "source": [
    "a = np.arange(5, dtype=np.int)\n",
    "print(a)\n",
    "b = np.array([1,2,3,4,5])\n",
    "print(np.add(a,b))"
   ]
  },
  {
   "cell_type": "markdown",
   "metadata": {},
   "source": [
    "#### 4.  Create a numpy array of size 10 filled with zeros but the fifth value is 1 \n",
    "\n",
    "#### Ստեղծեք 10 չափի 0-ներով լցված numpy array, որի 5րդ արժեքը 1 է:"
   ]
  },
  {
   "cell_type": "code",
   "execution_count": 7,
   "metadata": {},
   "outputs": [
    {
     "name": "stdout",
     "output_type": "stream",
     "text": [
      "[0 0 0 0 0 1 0 0 0 0]\n"
     ]
    }
   ],
   "source": [
    "a = np.zeros(10, dtype=np.int)\n",
    "a[5] = 1\n",
    "print(a)"
   ]
  },
  {
   "cell_type": "markdown",
   "metadata": {},
   "source": [
    "#### 5.  Create a numpy array with values ranging from 10 to 49\n",
    "\n",
    "#### Ստեղծեք 10-ից 49 հաջորդական թվերով numpy array:"
   ]
  },
  {
   "cell_type": "code",
   "execution_count": 9,
   "metadata": {},
   "outputs": [
    {
     "name": "stdout",
     "output_type": "stream",
     "text": [
      "[10 11 12 13 14 15 16 17 18 19 20 21 22 23 24 25 26 27 28 29 30 31 32 33\n",
      " 34 35 36 37 38 39 40 41 42 43 44 45 46 47 48 49]\n"
     ]
    }
   ],
   "source": [
    "a = np.arange(10,50,1, dtype=np.int)\n",
    "print(a)"
   ]
  },
  {
   "cell_type": "markdown",
   "metadata": {},
   "source": [
    "#### 6.  Reverse the numpy array ranging from 0 to 50. \n",
    "\n",
    "#### Ստեղծեք 0-ից 50 հաջորդական թվերով numpy array և տպեք այն շրջած ձևով:"
   ]
  },
  {
   "cell_type": "code",
   "execution_count": 13,
   "metadata": {},
   "outputs": [
    {
     "name": "stdout",
     "output_type": "stream",
     "text": [
      "[50 49 48 47 46 45 44 43 42 41 40 39 38 37 36 35 34 33 32 31 30 29 28 27\n",
      " 26 25 24 23 22 21 20 19 18 17 16 15 14 13 12 11 10  9  8  7  6  5  4  3\n",
      "  2  1  0]\n"
     ]
    }
   ],
   "source": [
    "a = np.arange(51)\n",
    "print(np.flip(a))\n"
   ]
  },
  {
   "cell_type": "markdown",
   "metadata": {},
   "source": [
    "#### 7.  Create a 3x3 matrix with values ranging from 0 to 8 \n",
    "\n",
    "#### Ստեղծեք 0-ից 8 հաջորդական թվերով 3x3 numpy array"
   ]
  },
  {
   "cell_type": "code",
   "execution_count": 14,
   "metadata": {},
   "outputs": [
    {
     "name": "stdout",
     "output_type": "stream",
     "text": [
      "[[0 1 2]\n",
      " [3 4 5]\n",
      " [6 7 8]]\n"
     ]
    }
   ],
   "source": [
    "print(np.array([[0,1,2],[3,4,5],[6,7,8]]))"
   ]
  },
  {
   "cell_type": "markdown",
   "metadata": {},
   "source": [
    "#### 8. Find indices of non-zero elements from \\[1,2,0,0,4,0\\]\n",
    "\n",
    "#### Տրված է \\[1,2,0,0,4,0\\] numpy array-ը, գտեք ոչ-զրոյական արժեքներով տարրերի կոորդինատները:"
   ]
  },
  {
   "cell_type": "code",
   "execution_count": 16,
   "metadata": {},
   "outputs": [
    {
     "name": "stdout",
     "output_type": "stream",
     "text": [
      "[2, 3, 5, 6]\n"
     ]
    }
   ],
   "source": [
    "a = np.array([1,2,0,0,4,0,0])\n",
    "list1 = []\n",
    "for i in range(0,len(a)):\n",
    "    if a[i] == 0:\n",
    "        list1.append(i)\n",
    "print(list1)\n",
    "        "
   ]
  },
  {
   "cell_type": "markdown",
   "metadata": {},
   "source": [
    "#### 9. Create a 3x3x3 array with random integers from 1 to 20\n",
    "\n",
    "#### Ստեղծեք 1-ից 20 պատահական թվերով լցված (3x3x3) չափանի numpy array:"
   ]
  },
  {
   "cell_type": "code",
   "execution_count": 25,
   "metadata": {},
   "outputs": [
    {
     "data": {
      "text/plain": [
       "array([[ 8,  3, 11],\n",
       "       [10,  4, 11],\n",
       "       [10, 16, 18]])"
      ]
     },
     "execution_count": 25,
     "metadata": {},
     "output_type": "execute_result"
    }
   ],
   "source": [
    "np.random.randint(1,20,[3,3])"
   ]
  },
  {
   "cell_type": "markdown",
   "metadata": {},
   "source": [
    "#### 10. Create a 10x10 array with random values and find the minimum and maximum values \n",
    "\n",
    "#### Ստեղծեք պատահական թվերով լցված (10x10) չափանի numpy array ու տպեք դրա փոքրագույն ու մեծագույն արժեքները:"
   ]
  },
  {
   "cell_type": "code",
   "execution_count": 34,
   "metadata": {},
   "outputs": [
    {
     "name": "stdout",
     "output_type": "stream",
     "text": [
      "Max: 49\n",
      "Min: 1\n"
     ]
    }
   ],
   "source": [
    "np.random.seed(5)\n",
    "a = np.random.randint(1,50,[10,10])\n",
    "print(\"Max:\",a.max())\n",
    "print(\"Min:\", a.min())"
   ]
  },
  {
   "cell_type": "markdown",
   "metadata": {},
   "source": [
    "#### 11. Create a random vector of size 30 and find the mean value \n",
    "\n",
    "#### Ստեղծեք 30 չափանի պատահական թվերով լցված numpy array ու տպեք դրա միջին արժեքը:"
   ]
  },
  {
   "cell_type": "code",
   "execution_count": 40,
   "metadata": {},
   "outputs": [
    {
     "name": "stdout",
     "output_type": "stream",
     "text": [
      "50.43333333333333\n"
     ]
    }
   ],
   "source": [
    "np.random.seed(5)\n",
    "a = np.random.randint(0,100,30)\n",
    "print(np.mean(a))"
   ]
  },
  {
   "cell_type": "markdown",
   "metadata": {},
   "source": [
    "#### 12. Given a 1D array ranging from 0 to 10, print all the elements which are between 3 and 8. \n",
    "\n",
    "#### Ստեղծեք 0-ից 10 հաջորդական թվերով numpy array: Տպեք բոլոր արժեքները, որոնք 3-ից 8 միջակայքում են:"
   ]
  },
  {
   "cell_type": "code",
   "execution_count": 43,
   "metadata": {},
   "outputs": [
    {
     "name": "stdout",
     "output_type": "stream",
     "text": [
      "[3 4 5 6 7]\n"
     ]
    }
   ],
   "source": [
    "a = np.arange(0,11)\n",
    "print(a[3:8])"
   ]
  },
  {
   "cell_type": "markdown",
   "metadata": {},
   "source": [
    "#### 13. Given a 1D array of 20 random integers from 0 to 10, multiply the values that are less than 5 by 2 and print the resulting array.\n",
    "\n",
    "#### Ստեղծեք 1-ից 10 պատահական ամբողջ թվերով լցված 20 չափանի numpy array: Բազմապատկեք 5-ից փոքր արժեք ունեցող տարերրը 2-ով ու տպեք արդյունքում ստացված array-ը:"
   ]
  },
  {
   "cell_type": "code",
   "execution_count": 48,
   "metadata": {},
   "outputs": [
    {
     "name": "stdout",
     "output_type": "stream",
     "text": [
      "Initial array: [4 7 7 1 9 5 8 1 1 8 2 6 8 1 2 5 7 3 2 3]\n",
      "[8, 2, 2, 2, 4, 2, 4, 6, 4, 6]\n"
     ]
    }
   ],
   "source": [
    "np.random.seed(5)\n",
    "a = np.random.randint(1,10,20)\n",
    "print(\"Initial array:\",a)\n",
    "list1 = []\n",
    "for i in a:\n",
    "    if i < 5:\n",
    "        list1.append(i*2)\n",
    "print(list1)"
   ]
  },
  {
   "cell_type": "markdown",
   "metadata": {},
   "source": [
    "#### 14. Given the 1D array [1, 5, 6, 2, -2, 23, 45], find the indices of the array elements that are divisible by 2.\n",
    "\n",
    "#### Տրված է [1, 5, 6, 2, -2, 23, 45] numpy array-ը, գտեք 2-ի բաժանվող տարրերի կոորդինատները:"
   ]
  },
  {
   "cell_type": "code",
   "execution_count": 51,
   "metadata": {},
   "outputs": [
    {
     "name": "stdout",
     "output_type": "stream",
     "text": [
      "Indexes of even numbers: [2, 3, 4]\n"
     ]
    }
   ],
   "source": [
    "a = np.array([1,5,6,2,-2,23,45])\n",
    "list1 = []\n",
    "for i in range(0, len(a)):\n",
    "    if a[i]%2 == 0:\n",
    "        list1.append(i)\n",
    "print(\"Indexes of even numbers:\",list1)"
   ]
  },
  {
   "cell_type": "markdown",
   "metadata": {},
   "source": [
    "#### 15. Given a 1D array ranging from 0 to 20, print all the elements which are divisible by 3. \n",
    "\n",
    "#### Ստեղծեք 1-ից 20 հաջորդական թվերով լցված numpy array, տպեք բոլոր 3-ի բաժանվող տարրերի արժեքները:"
   ]
  },
  {
   "cell_type": "code",
   "execution_count": 53,
   "metadata": {},
   "outputs": [
    {
     "name": "stdout",
     "output_type": "stream",
     "text": [
      "Indexes divisible by 3: [3, 6, 9, 12, 15, 18]\n"
     ]
    }
   ],
   "source": [
    "a = np.arange(1,20)\n",
    "list1 = []\n",
    "for i in a:\n",
    "    if i%3 == 0:\n",
    "        list1.append(i)\n",
    "print(\"Indexes divisible by 3:\",list1)"
   ]
  },
  {
   "cell_type": "markdown",
   "metadata": {},
   "source": [
    "#### 16. Create a 5x5 numpy array with each row values ranging from 0 to 4 \n",
    "\n",
    "#### Ստեղծեք 5x5 numpy array, որի ամեն տող իրենից ներկայացնում է 0-ից 4 հաջորդական թվեր:"
   ]
  },
  {
   "cell_type": "code",
   "execution_count": 65,
   "metadata": {},
   "outputs": [
    {
     "name": "stdout",
     "output_type": "stream",
     "text": [
      "[[0 1 2 3 4]\n",
      " [0 1 2 3 4]\n",
      " [0 1 2 3 4]\n",
      " [0 1 2 3 4]]\n"
     ]
    }
   ],
   "source": [
    "a = np.array([np.arange(0,5),np.arange(0,5),np.arange(0,5),np.arange(0,5)])\n",
    "\n",
    "print(a)"
   ]
  },
  {
   "cell_type": "markdown",
   "metadata": {},
   "source": [
    "#### 17. Create a 3x5 numpy array filled with random numbers from 1 to 10.\n",
    "\n",
    "#### 17. Ստեղծեք 1-ից 10 պատահական թվերով լցված (3, 5) չափերով numpy array։"
   ]
  },
  {
   "cell_type": "code",
   "execution_count": 67,
   "metadata": {},
   "outputs": [
    {
     "name": "stdout",
     "output_type": "stream",
     "text": [
      "[[ 3  2  6  8  5]\n",
      " [ 4  2  8  4  2]\n",
      " [10  6  8  1 10]]\n"
     ]
    }
   ],
   "source": [
    "a = np.random.randint(1,11,[3,5])\n",
    "print(a)"
   ]
  },
  {
   "cell_type": "markdown",
   "metadata": {},
   "source": [
    "#### 18. Create a numpy array of size 10 filled with 0s and replace its 5th value with a 3.\n",
    "\n",
    "#### 18. Ստեղծեք 10 չափի 0-ներով լցված numpy array ու փոխարինեք դրա 5-րդ արժեքը 3 թվով։"
   ]
  },
  {
   "cell_type": "code",
   "execution_count": 69,
   "metadata": {
    "scrolled": true
   },
   "outputs": [
    {
     "name": "stdout",
     "output_type": "stream",
     "text": [
      "[0. 0. 0. 0. 0. 3. 0. 0. 0. 0.]\n"
     ]
    }
   ],
   "source": [
    "a = np.zeros(10)\n",
    "a[5]=3\n",
    "print(a)"
   ]
  },
  {
   "cell_type": "markdown",
   "metadata": {},
   "source": [
    "#### 19. Create a numpy array filled with numbers from 3 to 15 i.e. ([3, 4 … 13, 14])\n",
    "\n",
    "#### 19. Ստեղծեք 3-ից 15 թվերից բաղկացած numpy array ([3, 4 … 13, 14])"
   ]
  },
  {
   "cell_type": "code",
   "execution_count": null,
   "metadata": {},
   "outputs": [],
   "source": [
    "print(np.arange([3,15]))"
   ]
  },
  {
   "cell_type": "markdown",
   "metadata": {},
   "source": [
    "#### 20. Write a function which gets a numpy array as an input and divides all of the array values by 2 over and over again, until the mean of the array numbers is <=5. Then, once the mean of the array numbers is <=5, the funtion returns the modified numpy array. \n",
    "\n",
    "#### 20. Գրեք ֆունկցիա, որը ստանում է numpy array ու բաժանում է դրա բոլոր արժեքները 2-ի այնքան ժամանակ մինչև որ դրանց միջին արժեքը լինի <=5։ Այնուհետև, հենց միջին արժեքը դառնում է <=5, ֆունկցիան վերադարձնում է փոփոխված numpy array-ը։"
   ]
  },
  {
   "cell_type": "code",
   "execution_count": 6,
   "metadata": {},
   "outputs": [],
   "source": [
    "def div(arr):\n",
    "    while np.mean(arr)>5:\n",
    "            arr = arr/2\n",
    "    return arr"
   ]
  },
  {
   "cell_type": "code",
   "execution_count": 7,
   "metadata": {},
   "outputs": [
    {
     "data": {
      "text/plain": [
       "array([2.5 , 2.75, 3.  , 3.25, 3.5 ])"
      ]
     },
     "execution_count": 7,
     "metadata": {},
     "output_type": "execute_result"
    }
   ],
   "source": [
    "a = np.array([10,11,12,13,14])\n",
    "div(a)\n"
   ]
  },
  {
   "cell_type": "markdown",
   "metadata": {},
   "source": [
    "#### 21. Write a function which gets a 5x4 numpy array filled with random numbers from 1 to 10 as an inputand returns 4 different numpy arrays which are the columns of the original numpy array. Write another similar function which returns 5 different numpy arrays which are rows of the original numpy array. \n",
    "\n",
    "#### 21. Գրեք ֆունկցիա, որը ստանում է 1-ից 10 պատահական թվերով լցված 5x4 numpy array ու վերադարձնում է 4 տարբեր numpy array-ներ, որոնք սկզբնական numpy array-ի սյուներն են։ Գրեք նմանատիպ ֆունկցիա, որը վերադարձնում է 5 տարբեր numpy array-ներ, որոնք սկզբնական numpy array-ի տողերն են։"
   ]
  },
  {
   "cell_type": "code",
   "execution_count": 55,
   "metadata": {},
   "outputs": [],
   "source": [
    "def col(arr):\n",
    "    for i in range(0, arr.shape[1]):\n",
    "        print(arr[...,i])\n",
    "        \n",
    "def row(arr):\n",
    "    for i in range(0, arr.shape[0]):\n",
    "        print(arr[i,...])"
   ]
  },
  {
   "cell_type": "code",
   "execution_count": 64,
   "metadata": {},
   "outputs": [
    {
     "name": "stdout",
     "output_type": "stream",
     "text": [
      "Original array: \n",
      " [[4 7 7 1]\n",
      " [9 5 8 1]\n",
      " [1 8 2 6]\n",
      " [8 1 2 5]\n",
      " [7 3 2 3]] \n",
      "\n",
      "[4 7 7 1]\n",
      "[9 5 8 1]\n",
      "[1 8 2 6]\n",
      "[8 1 2 5]\n",
      "[7 3 2 3]\n",
      "Rows: None \n",
      "\n",
      "[4 9 1 8 7]\n",
      "[7 5 8 1 3]\n",
      "[7 8 2 2 2]\n",
      "[1 1 6 5 3]\n",
      "Columns: None \n",
      "\n"
     ]
    }
   ],
   "source": [
    "np.random.seed(5)\n",
    "a = np.random.randint(1,10, [5,4])\n",
    "\n",
    "print(\"Original array:\",'\\n', a, '\\n')\n",
    "print(\"Rows:\", row(a), '\\n')\n",
    "print(\"Columns:\", col(a), '\\n')"
   ]
  }
 ],
 "metadata": {
  "kernelspec": {
   "display_name": "Python 3",
   "language": "python",
   "name": "python3"
  },
  "language_info": {
   "codemirror_mode": {
    "name": "ipython",
    "version": 3
   },
   "file_extension": ".py",
   "mimetype": "text/x-python",
   "name": "python",
   "nbconvert_exporter": "python",
   "pygments_lexer": "ipython3",
   "version": "3.7.4"
  }
 },
 "nbformat": 4,
 "nbformat_minor": 1
}
