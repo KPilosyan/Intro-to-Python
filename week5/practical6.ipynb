{
 "cells": [
  {
   "cell_type": "code",
   "execution_count": 79,
   "metadata": {},
   "outputs": [],
   "source": [
    "def admin(user, **args):\n",
    "    if user == 'admin':\n",
    "        for key, value in args.items():\n",
    "            print(str(key) + ' : '+str(value) )\n",
    "    else:\n",
    "        print('Access denied to the user '+ user)\n",
    "        "
   ]
  },
  {
   "cell_type": "code",
   "execution_count": 82,
   "metadata": {},
   "outputs": [
    {
     "name": "stdout",
     "output_type": "stream",
     "text": [
      "k : 1\n",
      "b : 2\n",
      "h : 5\n",
      "g : 9\n"
     ]
    }
   ],
   "source": [
    "admin('admin',k=1,b=2,h=5,g=9)"
   ]
  },
  {
   "cell_type": "code",
   "execution_count": null,
   "metadata": {},
   "outputs": [],
   "source": []
  }
 ],
 "metadata": {
  "kernelspec": {
   "display_name": "Python 3",
   "language": "python",
   "name": "python3"
  },
  "language_info": {
   "codemirror_mode": {
    "name": "ipython",
    "version": 3
   },
   "file_extension": ".py",
   "mimetype": "text/x-python",
   "name": "python",
   "nbconvert_exporter": "python",
   "pygments_lexer": "ipython3",
   "version": "3.7.4"
  }
 },
 "nbformat": 4,
 "nbformat_minor": 2
}
