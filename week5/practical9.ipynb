{
 "cells": [
  {
   "cell_type": "code",
   "execution_count": 36,
   "metadata": {},
   "outputs": [
    {
     "name": "stdout",
     "output_type": "stream",
     "text": [
      "Hi everyone !!! Welcome to the Party.\n"
     ]
    }
   ],
   "source": [
    "def dec1(func1):\n",
    "    def wrapper():\n",
    "        var1 = func1()\n",
    "        return var1[0] + var1[1:].lower()\n",
    "    return wrapper\n",
    "\n",
    "def dec2(func2):\n",
    "    def wrapper():\n",
    "        var2 = func2()\n",
    "        print(var2, '!!! Welcome to the Party.')\n",
    "    return wrapper\n",
    "\n",
    "@dec2\n",
    "@dec1\n",
    "def func():\n",
    "    return 'HI EVERYONE'\n",
    "\n",
    "func()"
   ]
  },
  {
   "cell_type": "code",
   "execution_count": null,
   "metadata": {},
   "outputs": [],
   "source": []
  }
 ],
 "metadata": {
  "kernelspec": {
   "display_name": "Python 3",
   "language": "python",
   "name": "python3"
  },
  "language_info": {
   "codemirror_mode": {
    "name": "ipython",
    "version": 3
   },
   "file_extension": ".py",
   "mimetype": "text/x-python",
   "name": "python",
   "nbconvert_exporter": "python",
   "pygments_lexer": "ipython3",
   "version": "3.7.4"
  }
 },
 "nbformat": 4,
 "nbformat_minor": 2
}
