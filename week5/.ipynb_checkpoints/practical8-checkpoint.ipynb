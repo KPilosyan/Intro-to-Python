{
 "cells": [
  {
   "cell_type": "code",
   "execution_count": 11,
   "metadata": {},
   "outputs": [
    {
     "name": "stdout",
     "output_type": "stream",
     "text": [
      "['Anna', 'Edgar']\n",
      "['Anna', 'Edgar', 1, 2, 3, 'Edo']\n"
     ]
    }
   ],
   "source": [
    "list1 = ['Anna','Edgar']\n",
    "\n",
    "def decorator_custom(func):\n",
    "    def wrapper(*args, **kwargs):\n",
    "        print(list1)\n",
    "        func(*args, **kwargs)\n",
    "        print(list1)\n",
    "    return wrapper\n",
    "    \n",
    "\n",
    "@decorator_custom\n",
    "def add_values(list2):\n",
    "    for i in list2:\n",
    "        if i not in list1:\n",
    "            list1.append(i)\n",
    "    return list1\n",
    "    \n",
    "add_values([1,2,3, 'Anna', 'Edo'])"
   ]
  },
  {
   "cell_type": "code",
   "execution_count": null,
   "metadata": {},
   "outputs": [],
   "source": []
  }
 ],
 "metadata": {
  "kernelspec": {
   "display_name": "Python 3",
   "language": "python",
   "name": "python3"
  },
  "language_info": {
   "codemirror_mode": {
    "name": "ipython",
    "version": 3
   },
   "file_extension": ".py",
   "mimetype": "text/x-python",
   "name": "python",
   "nbconvert_exporter": "python",
   "pygments_lexer": "ipython3",
   "version": "3.7.4"
  }
 },
 "nbformat": 4,
 "nbformat_minor": 2
}
