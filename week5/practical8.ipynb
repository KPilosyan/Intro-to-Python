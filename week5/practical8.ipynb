{
 "cells": [
  {
   "cell_type": "code",
   "execution_count": 12,
   "metadata": {},
   "outputs": [],
   "source": [
    "list1 = ['Anna','Edgar']\n",
    "\n",
    "def decorator_custom(func):\n",
    "    def wrapper(*args, **kwargs):\n",
    "        print(1)\n",
    "        func(*args, **kwargs)\n",
    "        print(2)\n",
    "    return wrapper\n",
    "    \n",
    "\n",
    "@decorator_custom\n",
    "def add_values(list2):\n",
    "    for i in list2:\n",
    "        if i not in list1:\n",
    "            list1.append(i)\n",
    "    print(list1)\n",
    "    \n",
    "add_values(...)"
   ]
  },
  {
   "cell_type": "code",
   "execution_count": 14,
   "metadata": {},
   "outputs": [
    {
     "name": "stdout",
     "output_type": "stream",
     "text": [
      "['Anna', 'Edgar', 5, 10, 'str']\n"
     ]
    }
   ],
   "source": [
    "add_values(['Anna','Edgar',5,10,'str'])"
   ]
  },
  {
   "cell_type": "code",
   "execution_count": null,
   "metadata": {},
   "outputs": [],
   "source": []
  }
 ],
 "metadata": {
  "kernelspec": {
   "display_name": "Python 3",
   "language": "python",
   "name": "python3"
  },
  "language_info": {
   "codemirror_mode": {
    "name": "ipython",
    "version": 3
   },
   "file_extension": ".py",
   "mimetype": "text/x-python",
   "name": "python",
   "nbconvert_exporter": "python",
   "pygments_lexer": "ipython3",
   "version": "3.7.4"
  }
 },
 "nbformat": 4,
 "nbformat_minor": 2
}
