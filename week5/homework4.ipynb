{
 "cells": [
  {
   "cell_type": "code",
   "execution_count": 6,
   "metadata": {},
   "outputs": [],
   "source": [
    "def dec1(any_func):\n",
    "    def wrapper(*args, **kwargs):\n",
    "        return any_func() + \", it's me!\"\n",
    "        \n",
    "    return wrapper\n",
    "\n",
    "def dec2(any_func):\n",
    "    def wrapper():\n",
    "        print(\"<u>\", any_func(), \"</u\")\n",
    "        \n",
    "    return wrapper\n",
    "\n",
    "@dec2\n",
    "@dec1\n",
    "def func():\n",
    "    return 'Hi'"
   ]
  },
  {
   "cell_type": "code",
   "execution_count": 7,
   "metadata": {},
   "outputs": [
    {
     "name": "stdout",
     "output_type": "stream",
     "text": [
      "<u> Hi, it's me! </u\n"
     ]
    }
   ],
   "source": [
    "func()"
   ]
  }
 ],
 "metadata": {
  "kernelspec": {
   "display_name": "Python 3",
   "language": "python",
   "name": "python3"
  },
  "language_info": {
   "codemirror_mode": {
    "name": "ipython",
    "version": 3
   },
   "file_extension": ".py",
   "mimetype": "text/x-python",
   "name": "python",
   "nbconvert_exporter": "python",
   "pygments_lexer": "ipython3",
   "version": "3.7.4"
  }
 },
 "nbformat": 4,
 "nbformat_minor": 2
}
