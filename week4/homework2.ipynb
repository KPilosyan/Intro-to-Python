{
 "cells": [
  {
   "cell_type": "code",
   "execution_count": 2,
   "metadata": {},
   "outputs": [
    {
     "name": "stdout",
     "output_type": "stream",
     "text": [
      "Good job\n"
     ]
    }
   ],
   "source": [
    "from statistics import mean\n",
    "d = {\"name\": \"Armen\", \"age\": 15, \"grades\": [10, 8, 8, 4, 6, 7] }\n",
    "\n",
    "if mean(d[\"grades\"]) > 7:\n",
    "    print(\"Good job\")\n",
    "else:\n",
    "    print(\"You need to work more.\")"
   ]
  },
  {
   "cell_type": "code",
   "execution_count": null,
   "metadata": {},
   "outputs": [],
   "source": []
  }
 ],
 "metadata": {
  "kernelspec": {
   "display_name": "Python 3",
   "language": "python",
   "name": "python3"
  },
  "language_info": {
   "codemirror_mode": {
    "name": "ipython",
    "version": 3
   },
   "file_extension": ".py",
   "mimetype": "text/x-python",
   "name": "python",
   "nbconvert_exporter": "python",
   "pygments_lexer": "ipython3",
   "version": "3.7.4"
  }
 },
 "nbformat": 4,
 "nbformat_minor": 2
}
