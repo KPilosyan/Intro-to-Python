{
 "cells": [
  {
   "cell_type": "code",
   "execution_count": 6,
   "metadata": {},
   "outputs": [],
   "source": [
    "def func(name, age, password):\n",
    "    if name == \"Batman\":\n",
    "        print(\"Welcome Mr. Batman!\")\n",
    "    if age < 16:\n",
    "        print(\"Dear\", name + \", you are too young to register\")\n",
    "    if \"*\" or \"&\" not in password:\n",
    "        print(\"Please enter a different password\")"
   ]
  },
  {
   "cell_type": "code",
   "execution_count": 7,
   "metadata": {},
   "outputs": [
    {
     "name": "stdout",
     "output_type": "stream",
     "text": [
      "Welcome Mr. Batman!\n",
      "Dear Batman, you are too young to register\n",
      "Please enter a different password\n"
     ]
    }
   ],
   "source": [
    "func(\"Batman\", 10, \"bla\")"
   ]
  },
  {
   "cell_type": "code",
   "execution_count": null,
   "metadata": {},
   "outputs": [],
   "source": []
  }
 ],
 "metadata": {
  "kernelspec": {
   "display_name": "Python 3",
   "language": "python",
   "name": "python3"
  },
  "language_info": {
   "codemirror_mode": {
    "name": "ipython",
    "version": 3
   },
   "file_extension": ".py",
   "mimetype": "text/x-python",
   "name": "python",
   "nbconvert_exporter": "python",
   "pygments_lexer": "ipython3",
   "version": "3.7.4"
  }
 },
 "nbformat": 4,
 "nbformat_minor": 2
}
