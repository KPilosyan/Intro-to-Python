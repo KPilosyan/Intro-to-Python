{
 "cells": [
  {
   "cell_type": "code",
   "execution_count": 3,
   "metadata": {},
   "outputs": [
    {
     "name": "stdout",
     "output_type": "stream",
     "text": [
      "elrjgn\n",
      "Please choose another desert\n",
      "etgjnsr\n",
      "Please choose another desert\n",
      "trjn\n",
      "Please choose another desert\n",
      "k\n",
      "Please choose another desert\n",
      "'df\n",
      "Please choose another desert\n",
      "5\n",
      "Please choose another desert\n",
      "ice crea\n",
      "Please choose another desert\n",
      "ice cream\n",
      "Your desert will arrive in 10 minutes\n"
     ]
    }
   ],
   "source": [
    "menu = ['ice cream', 'chocolate', 'apple crisp', 'cookies']\n",
    "desert = input()\n",
    "while desert not in menu:\n",
    "    print(\"Please choose another desert\")\n",
    "    desert = input()\n",
    "\n",
    "if desert in menu:\n",
    "    print(\"Your desert will arrive in 10 minutes\")"
   ]
  },
  {
   "cell_type": "code",
   "execution_count": null,
   "metadata": {},
   "outputs": [],
   "source": []
  }
 ],
 "metadata": {
  "kernelspec": {
   "display_name": "Python 3",
   "language": "python",
   "name": "python3"
  },
  "language_info": {
   "codemirror_mode": {
    "name": "ipython",
    "version": 3
   },
   "file_extension": ".py",
   "mimetype": "text/x-python",
   "name": "python",
   "nbconvert_exporter": "python",
   "pygments_lexer": "ipython3",
   "version": "3.7.4"
  }
 },
 "nbformat": 4,
 "nbformat_minor": 2
}
