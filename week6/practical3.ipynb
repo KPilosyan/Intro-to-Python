{
 "cells": [
  {
   "cell_type": "code",
   "execution_count": 2,
   "metadata": {},
   "outputs": [],
   "source": [
    "class Employee():\n",
    "    def __init__(self, name, last_name, monthly_salary):\n",
    "        self.name = name\n",
    "        self.last = last_name\n",
    "        self.__monthly_salary = monthly_salary\n",
    "        \n",
    "    def getFullName(self):\n",
    "        return self.name, self.last\n",
    "    \n",
    "    def annualSalary(self):\n",
    "        if self.__monthly_salary*12 > 100:\n",
    "            return \"High\"\n",
    "        else:\n",
    "            return \"Low\""
   ]
  },
  {
   "cell_type": "markdown",
   "metadata": {},
   "source": [
    "emp1 = Employee(\"Karen\", \"Pilosyan\", 50)\n",
    "emp2 = Employee(\"Tigran\", \"Movsisyan\", 100)\n",
    "\n",
    "emp1.getFullName()\n",
    "emp2.annualSalary()"
   ]
  },
  {
   "cell_type": "code",
   "execution_count": 4,
   "metadata": {},
   "outputs": [
    {
     "name": "stdout",
     "output_type": "stream",
     "text": [
      "('Karen', 'Pilosyan')\n",
      "Low\n"
     ]
    }
   ],
   "source": [
    "emp1 = Employee(\"Karen\", \"Pilosyan\", 50) \n",
    "emp2 = Employee(\"Tigran\", \"Movsisyan\", 1)\n",
    "\n",
    "print(emp1.getFullName())\n",
    "print(emp2.annualSalary())"
   ]
  },
  {
   "cell_type": "code",
   "execution_count": null,
   "metadata": {},
   "outputs": [],
   "source": []
  }
 ],
 "metadata": {
  "kernelspec": {
   "display_name": "Python 3",
   "language": "python",
   "name": "python3"
  },
  "language_info": {
   "codemirror_mode": {
    "name": "ipython",
    "version": 3
   },
   "file_extension": ".py",
   "mimetype": "text/x-python",
   "name": "python",
   "nbconvert_exporter": "python",
   "pygments_lexer": "ipython3",
   "version": "3.7.4"
  }
 },
 "nbformat": 4,
 "nbformat_minor": 2
}
