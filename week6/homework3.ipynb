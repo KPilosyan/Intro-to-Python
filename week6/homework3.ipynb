{
 "cells": [
  {
   "cell_type": "code",
   "execution_count": 95,
   "metadata": {},
   "outputs": [],
   "source": [
    "import timeit\n",
    "\n",
    "class Person:\n",
    "    def __init__(self,name,last_name,age,gender,student,password):\n",
    "        self.first = name\n",
    "        self.last = last_name\n",
    "        self.age = age\n",
    "        self.gender = gender \n",
    "        self.student = student \n",
    "        self.__password = password\n",
    "        \n",
    "    def dec(func):\n",
    "        def wrapper(*args, **kwargs):\n",
    "            func(*args, **kwargs)\n",
    "            print(\"(It took\", timeit.timeit(), \"mil_sec)\")\n",
    "        return wrapper\n",
    "    \n",
    "    @dec\n",
    "    def Greeting(self, second_person):\n",
    "        print(\"Welcome dear\", self.first + \"!\")\n",
    "    def Goodbye(self):\n",
    "        print(\"Bye everyone!\")\n",
    "    def Favourite_num(self, num1):\n",
    "        try:\n",
    "            if not num1:\n",
    "                raise Exception\n",
    "        except Exception:\n",
    "            print(\"In that case, just say a random number\")\n",
    "        else:\n",
    "            print(\"My favourite number is\", num1)\n",
    "        \n",
    "    def Read_file(self, filename):\n",
    "        f = filename + \".txt\"\n",
    "        try:\n",
    "            open(f)\n",
    "        except FileNotFoundError: \n",
    "            print('Sorry, this file does not exist')\n",
    "    \n",
    "    def set_code(self, new_password):\n",
    "        self.__password = new_password\n",
    "    \n",
    "    def get_code(self):\n",
    "        return self.__password\n",
    "        \n",
    "        "
   ]
  },
  {
   "cell_type": "code",
   "execution_count": 96,
   "metadata": {},
   "outputs": [],
   "source": [
    "p1 = Person(\"Karen\", \"Pilosyan\",22,\"Male\",True,\"blabla\")\n",
    "p2 = Person(\"Some\", \"One\",1,\"Female\", False, \"abugagaga\")"
   ]
  },
  {
   "cell_type": "code",
   "execution_count": 97,
   "metadata": {
    "scrolled": false
   },
   "outputs": [
    {
     "name": "stdout",
     "output_type": "stream",
     "text": [
      "Welcome dear Some!\n",
      "(It took 0.016647399999783374 mil_sec)\n"
     ]
    }
   ],
   "source": [
    "p2.Greeting(p2)"
   ]
  },
  {
   "cell_type": "code",
   "execution_count": 98,
   "metadata": {},
   "outputs": [
    {
     "name": "stdout",
     "output_type": "stream",
     "text": [
      "In that case, just say a random number\n"
     ]
    }
   ],
   "source": [
    "p1.Favourite_num(\"\")"
   ]
  },
  {
   "cell_type": "code",
   "execution_count": 103,
   "metadata": {},
   "outputs": [],
   "source": [
    "p1.Read_file(\"test\")"
   ]
  },
  {
   "cell_type": "code",
   "execution_count": 105,
   "metadata": {},
   "outputs": [
    {
     "data": {
      "text/plain": [
       "'blabla'"
      ]
     },
     "execution_count": 105,
     "metadata": {},
     "output_type": "execute_result"
    }
   ],
   "source": [
    "p1.get_code()"
   ]
  },
  {
   "cell_type": "code",
   "execution_count": 106,
   "metadata": {},
   "outputs": [],
   "source": [
    "p1.set_code(\"bla\")"
   ]
  },
  {
   "cell_type": "code",
   "execution_count": 107,
   "metadata": {},
   "outputs": [
    {
     "data": {
      "text/plain": [
       "'bla'"
      ]
     },
     "execution_count": 107,
     "metadata": {},
     "output_type": "execute_result"
    }
   ],
   "source": [
    "p1.get_code()"
   ]
  },
  {
   "cell_type": "code",
   "execution_count": 108,
   "metadata": {},
   "outputs": [
    {
     "data": {
      "text/plain": [
       "'abugagaga'"
      ]
     },
     "execution_count": 108,
     "metadata": {},
     "output_type": "execute_result"
    }
   ],
   "source": [
    "p2.get_code()"
   ]
  },
  {
   "cell_type": "code",
   "execution_count": 109,
   "metadata": {},
   "outputs": [],
   "source": [
    "p2.set_code(\"agabubu\")"
   ]
  },
  {
   "cell_type": "code",
   "execution_count": null,
   "metadata": {},
   "outputs": [],
   "source": []
  }
 ],
 "metadata": {
  "kernelspec": {
   "display_name": "Python 3",
   "language": "python",
   "name": "python3"
  },
  "language_info": {
   "codemirror_mode": {
    "name": "ipython",
    "version": 3
   },
   "file_extension": ".py",
   "mimetype": "text/x-python",
   "name": "python",
   "nbconvert_exporter": "python",
   "pygments_lexer": "ipython3",
   "version": "3.7.4"
  }
 },
 "nbformat": 4,
 "nbformat_minor": 2
}
