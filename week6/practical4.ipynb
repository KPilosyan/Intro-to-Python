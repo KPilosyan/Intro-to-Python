{
 "cells": [
  {
   "cell_type": "code",
   "execution_count": 26,
   "metadata": {},
   "outputs": [],
   "source": [
    "class car():\n",
    "    def __init__(s, model, color, max_speed):\n",
    "        s.mod = model\n",
    "        s.col = color\n",
    "        s.speed = max_speed\n",
    "    \n",
    "    def compareCar(b, car2):\n",
    "        print(b.speed)\n",
    "        if car2.speed > b.speed:\n",
    "            return \"Car 2 is better than car 1\"\n",
    "        else:\n",
    "            return \"Car 1 is better than car 2\""
   ]
  },
  {
   "cell_type": "code",
   "execution_count": 27,
   "metadata": {},
   "outputs": [
    {
     "name": "stdout",
     "output_type": "stream",
     "text": [
      "240\n",
      "Car 2 is better than car 1\n",
      "240\n"
     ]
    }
   ],
   "source": [
    "c1 = car(\"mercedes\", \"red\", 240)\n",
    "c2 = car(\"bmw\", \"grey\", 250)\n",
    "\n",
    "print(c1.compareCar(c2))\n",
    "print(c1.speed)"
   ]
  },
  {
   "cell_type": "code",
   "execution_count": null,
   "metadata": {},
   "outputs": [],
   "source": []
  }
 ],
 "metadata": {
  "kernelspec": {
   "display_name": "Python 3",
   "language": "python",
   "name": "python3"
  },
  "language_info": {
   "codemirror_mode": {
    "name": "ipython",
    "version": 3
   },
   "file_extension": ".py",
   "mimetype": "text/x-python",
   "name": "python",
   "nbconvert_exporter": "python",
   "pygments_lexer": "ipython3",
   "version": "3.7.4"
  }
 },
 "nbformat": 4,
 "nbformat_minor": 2
}
