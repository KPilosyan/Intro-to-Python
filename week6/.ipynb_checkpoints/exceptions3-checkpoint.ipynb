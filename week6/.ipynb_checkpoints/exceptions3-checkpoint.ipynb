{
 "cells": [
  {
   "cell_type": "code",
   "execution_count": 76,
   "metadata": {},
   "outputs": [
    {
     "name": "stdout",
     "output_type": "stream",
     "text": [
      "Can't divide int to string\n",
      "Can't divide int to string\n",
      "The entry is: [1, 3]\n",
      "The reciprocal of [1, 3] is []\n"
     ]
    }
   ],
   "source": [
    "list1 = [1,3]\n",
    "list2 = []\n",
    "for i in list1:\n",
    "    try:\n",
    "        list2.append(list1[1/i])\n",
    "    except TypeError:\n",
    "        print(\"Can't divide int to string\")\n",
    "    except ZeroDivisionError:\n",
    "        print(\"Can't divide number to 0\")\n",
    "        \n",
    "print(\"The entry is:\", list1)\n",
    "print(\"The reciprocal of\", list1, \"is\", list2)"
   ]
  },
  {
   "cell_type": "code",
   "execution_count": null,
   "metadata": {},
   "outputs": [],
   "source": []
  }
 ],
 "metadata": {
  "kernelspec": {
   "display_name": "Python 3",
   "language": "python",
   "name": "python3"
  },
  "language_info": {
   "codemirror_mode": {
    "name": "ipython",
    "version": 3
   },
   "file_extension": ".py",
   "mimetype": "text/x-python",
   "name": "python",
   "nbconvert_exporter": "python",
   "pygments_lexer": "ipython3",
   "version": "3.7.4"
  }
 },
 "nbformat": 4,
 "nbformat_minor": 2
}
