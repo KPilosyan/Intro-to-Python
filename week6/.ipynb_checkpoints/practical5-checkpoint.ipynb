{
 "cells": [
  {
   "cell_type": "code",
   "execution_count": 23,
   "metadata": {},
   "outputs": [],
   "source": [
    "class Police_car():\n",
    "    def __init__(self, owner, price, pass_code):\n",
    "        self.owner = owner\n",
    "        self.price = price\n",
    "        self.__pass_code = pass_code\n",
    "        self.tax_value = 0.2\n",
    "    \n",
    "    def tax(self):\n",
    "        return self.tax_value*self.price\n",
    "    \n",
    "    def greeting(self):\n",
    "        if self.__pass_code == \"admin\":\n",
    "            print(\"Welcome to your car\", self.owner)\n",
    "        else:\n",
    "            print(\"Wrong password\")\n",
    "    \n",
    "    def get_pass_code(werkfgekig):\n",
    "        return werkfgekig.__pass_code\n",
    "    \n",
    "    def set_pass_code(k, new_code):\n",
    "        k.__pass_code = new_code\n",
    "        return k.__pass_code\n",
    "        "
   ]
  },
  {
   "cell_type": "code",
   "execution_count": 24,
   "metadata": {},
   "outputs": [
    {
     "name": "stdout",
     "output_type": "stream",
     "text": [
      "20.0\n",
      "Welcome to your car P2\n",
      "Wrong password\n"
     ]
    },
    {
     "data": {
      "text/plain": [
       "'new_password'"
      ]
     },
     "execution_count": 24,
     "metadata": {},
     "output_type": "execute_result"
    }
   ],
   "source": [
    "pc1 = Police_car(\"P1\", 100, \"admin\")\n",
    "pc2 = Police_car(\"P2\", 50, \"admin\")\n",
    "pc3 = Police_car(\"P3\", 500, \"dmin\")\n",
    "\n",
    "print(pc1.tax())\n",
    "pc2.greeting()\n",
    "pc3.greeting()\n",
    "\n",
    "#pc1.get_pass_code()\n",
    "pc1.set_pass_code(\"new_password\")"
   ]
  },
  {
   "cell_type": "code",
   "execution_count": null,
   "metadata": {},
   "outputs": [],
   "source": []
  }
 ],
 "metadata": {
  "kernelspec": {
   "display_name": "Python 3",
   "language": "python",
   "name": "python3"
  },
  "language_info": {
   "codemirror_mode": {
    "name": "ipython",
    "version": 3
   },
   "file_extension": ".py",
   "mimetype": "text/x-python",
   "name": "python",
   "nbconvert_exporter": "python",
   "pygments_lexer": "ipython3",
   "version": "3.7.4"
  }
 },
 "nbformat": 4,
 "nbformat_minor": 2
}
