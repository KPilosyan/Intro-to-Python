{
 "cells": [
  {
   "cell_type": "code",
   "execution_count": 1,
   "metadata": {},
   "outputs": [
    {
     "name": "stdout",
     "output_type": "stream",
     "text": [
      "course: Intro to Python\n",
      "student: Karen Pilosyan\n",
      "nickname: Batman\n",
      "grade: 100\n",
      "python_expert: True\n"
     ]
    }
   ],
   "source": [
    "course = 'Intro to Python'\n",
    "student = 'Karen Pilosyan'\n",
    "nickname = 'Batman'\n",
    "grade = 100\n",
    "python_expert = True\n",
    "print('course: '+ course)\n",
    "print('student: '+ student)\n",
    "print('nickname: '+ nickname)\n",
    "print('grade: '+ str(grade))\n",
    "print('python_expert: '+ str(python_expert))"
   ]
  },
  {
   "cell_type": "code",
   "execution_count": null,
   "metadata": {},
   "outputs": [],
   "source": []
  }
 ],
 "metadata": {
  "kernelspec": {
   "display_name": "Python 3",
   "language": "python",
   "name": "python3"
  },
  "language_info": {
   "codemirror_mode": {
    "name": "ipython",
    "version": 3
   },
   "file_extension": ".py",
   "mimetype": "text/x-python",
   "name": "python",
   "nbconvert_exporter": "python",
   "pygments_lexer": "ipython3",
   "version": "3.7.4"
  }
 },
 "nbformat": 4,
 "nbformat_minor": 2
}
