{
 "cells": [
  {
   "cell_type": "code",
   "execution_count": 3,
   "metadata": {},
   "outputs": [
    {
     "name": "stdout",
     "output_type": "stream",
     "text": [
      "False\n",
      "True\n",
      "True\n",
      "False\n"
     ]
    }
   ],
   "source": [
    "project = 'cake'\n",
    "difficulty = 5\n",
    "ingredients = [\"flour\", \"butter\", \"sugar\", \"eggs\", \"cocoa powder\", \"baking powder\"]\n",
    "\n",
    "print('apples' in ingredients)\n",
    "print('butter' in ingredients)\n",
    "print(('eggs' in ingredients) or ('margarine' in ingredients))\n",
    "print(('eggs' in ingredients) and ('margarine' in ingredients))"
   ]
  },
  {
   "cell_type": "code",
   "execution_count": 5,
   "metadata": {},
   "outputs": [
    {
     "name": "stdout",
     "output_type": "stream",
     "text": [
      "flour - 175\n",
      "butter - 175\n",
      "sugar - 100g\n",
      "eggs - 2\n",
      "cocoa_powder - 1ts\n",
      "baking_powder - 0.5\n"
     ]
    }
   ],
   "source": [
    "flour = 175\n",
    "butter = 175\n",
    "sugar = '100g'\n",
    "eggs = 2\n",
    "cocoa_powder = '1ts'\n",
    "baking_powder = 0.5\n",
    "\n",
    "print('flour - '+ str(flour))\n",
    "print('butter - '+ str(butter))\n",
    "print('sugar - '+ sugar)\n",
    "print('eggs - '+ str(eggs))\n",
    "print('cocoa_powder - '+ cocoa_powder)\n",
    "print('baking_powder - '+ str(baking_powder))"
   ]
  },
  {
   "cell_type": "code",
   "execution_count": null,
   "metadata": {},
   "outputs": [],
   "source": []
  }
 ],
 "metadata": {
  "kernelspec": {
   "display_name": "Python 3",
   "language": "python",
   "name": "python3"
  },
  "language_info": {
   "codemirror_mode": {
    "name": "ipython",
    "version": 3
   },
   "file_extension": ".py",
   "mimetype": "text/x-python",
   "name": "python",
   "nbconvert_exporter": "python",
   "pygments_lexer": "ipython3",
   "version": "3.7.4"
  }
 },
 "nbformat": 4,
 "nbformat_minor": 2
}
